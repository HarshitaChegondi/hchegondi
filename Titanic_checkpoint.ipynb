{
  "cells": [
    {
      "cell_type": "code",
      "execution_count": null,
      "id": "00c880ce",
      "metadata": {
        "_cell_guid": "b1076dfc-b9ad-4769-8c92-a6c4dae69d19",
        "_uuid": "8f2839f25d086af736a60e9eeb907d3b93b6e0e5",
        "execution": {
          "iopub.execute_input": "2023-03-03T03:52:31.564772Z",
          "iopub.status.busy": "2023-03-03T03:52:31.564060Z",
          "iopub.status.idle": "2023-03-03T03:52:31.579507Z",
          "shell.execute_reply": "2023-03-03T03:52:31.578200Z"
        },
        "papermill": {
          "duration": 0.024551,
          "end_time": "2023-03-03T03:52:31.582870",
          "exception": false,
          "start_time": "2023-03-03T03:52:31.558319",
          "status": "completed"
        },
        "tags": [],
        "id": "00c880ce"
      },
      "outputs": [],
      "source": [
        "\n",
        "import numpy as np \n",
        "import pandas as pd\n",
        "\n",
        "from sklearn.metrics import accuracy_score\n",
        "from sklearn.preprocessing import StandardScaler\n",
        "from sklearn.linear_model import LogisticRegression\n",
        "from sklearn.model_selection import train_test_split\n",
        "from sklearn import metrics\n",
        "import os\n"
      ]
    },
    {
      "cell_type": "code",
      "execution_count": null,
      "id": "0f6128e7",
      "metadata": {
        "colab": {
          "base_uri": "https://localhost:8080/"
        },
        "id": "0f6128e7",
        "outputId": "1c2dae14-fa6e-471b-c23a-1633c0199b03"
      },
      "outputs": [
        {
          "output_type": "stream",
          "name": "stdout",
          "text": [
            "/content/train.csv\n"
          ]
        }
      ],
      "source": [
        "working_dic= os.getcwd()\n",
        "train_dic=working_dic+'/train.csv'\n",
        "test_dic = working_dic+'/test.csv'\n",
        "print(train_dic)"
      ]
    },
    {
      "cell_type": "code",
      "execution_count": null,
      "id": "a964ef61",
      "metadata": {
        "execution": {
          "iopub.execute_input": "2023-03-03T03:52:31.591647Z",
          "iopub.status.busy": "2023-03-03T03:52:31.590614Z",
          "iopub.status.idle": "2023-03-03T03:52:31.640483Z",
          "shell.execute_reply": "2023-03-03T03:52:31.639040Z"
        },
        "papermill": {
          "duration": 0.05747,
          "end_time": "2023-03-03T03:52:31.643614",
          "exception": false,
          "start_time": "2023-03-03T03:52:31.586144",
          "status": "completed"
        },
        "tags": [],
        "colab": {
          "base_uri": "https://localhost:8080/",
          "height": 302
        },
        "id": "a964ef61",
        "outputId": "88123840-a17c-4468-8635-e0307e661265"
      },
      "outputs": [
        {
          "output_type": "execute_result",
          "data": {
            "text/plain": [
              "   PassengerId  Survived  Pclass  \\\n",
              "0            1         0       3   \n",
              "1            2         1       1   \n",
              "2            3         1       3   \n",
              "3            4         1       1   \n",
              "4            5         0       3   \n",
              "\n",
              "                                                Name     Sex   Age  SibSp  \\\n",
              "0                            Braund, Mr. Owen Harris    male  22.0      1   \n",
              "1  Cumings, Mrs. John Bradley (Florence Briggs Th...  female  38.0      1   \n",
              "2                             Heikkinen, Miss. Laina  female  26.0      0   \n",
              "3       Futrelle, Mrs. Jacques Heath (Lily May Peel)  female  35.0      1   \n",
              "4                           Allen, Mr. William Henry    male  35.0      0   \n",
              "\n",
              "   Parch            Ticket     Fare Cabin Embarked  \n",
              "0      0         A/5 21171   7.2500   NaN        S  \n",
              "1      0          PC 17599  71.2833   C85        C  \n",
              "2      0  STON/O2. 3101282   7.9250   NaN        S  \n",
              "3      0            113803  53.1000  C123        S  \n",
              "4      0            373450   8.0500   NaN        S  "
            ],
            "text/html": [
              "\n",
              "  <div id=\"df-52c881b8-f746-4b6a-9c16-93620ce7db00\">\n",
              "    <div class=\"colab-df-container\">\n",
              "      <div>\n",
              "<style scoped>\n",
              "    .dataframe tbody tr th:only-of-type {\n",
              "        vertical-align: middle;\n",
              "    }\n",
              "\n",
              "    .dataframe tbody tr th {\n",
              "        vertical-align: top;\n",
              "    }\n",
              "\n",
              "    .dataframe thead th {\n",
              "        text-align: right;\n",
              "    }\n",
              "</style>\n",
              "<table border=\"1\" class=\"dataframe\">\n",
              "  <thead>\n",
              "    <tr style=\"text-align: right;\">\n",
              "      <th></th>\n",
              "      <th>PassengerId</th>\n",
              "      <th>Survived</th>\n",
              "      <th>Pclass</th>\n",
              "      <th>Name</th>\n",
              "      <th>Sex</th>\n",
              "      <th>Age</th>\n",
              "      <th>SibSp</th>\n",
              "      <th>Parch</th>\n",
              "      <th>Ticket</th>\n",
              "      <th>Fare</th>\n",
              "      <th>Cabin</th>\n",
              "      <th>Embarked</th>\n",
              "    </tr>\n",
              "  </thead>\n",
              "  <tbody>\n",
              "    <tr>\n",
              "      <th>0</th>\n",
              "      <td>1</td>\n",
              "      <td>0</td>\n",
              "      <td>3</td>\n",
              "      <td>Braund, Mr. Owen Harris</td>\n",
              "      <td>male</td>\n",
              "      <td>22.0</td>\n",
              "      <td>1</td>\n",
              "      <td>0</td>\n",
              "      <td>A/5 21171</td>\n",
              "      <td>7.2500</td>\n",
              "      <td>NaN</td>\n",
              "      <td>S</td>\n",
              "    </tr>\n",
              "    <tr>\n",
              "      <th>1</th>\n",
              "      <td>2</td>\n",
              "      <td>1</td>\n",
              "      <td>1</td>\n",
              "      <td>Cumings, Mrs. John Bradley (Florence Briggs Th...</td>\n",
              "      <td>female</td>\n",
              "      <td>38.0</td>\n",
              "      <td>1</td>\n",
              "      <td>0</td>\n",
              "      <td>PC 17599</td>\n",
              "      <td>71.2833</td>\n",
              "      <td>C85</td>\n",
              "      <td>C</td>\n",
              "    </tr>\n",
              "    <tr>\n",
              "      <th>2</th>\n",
              "      <td>3</td>\n",
              "      <td>1</td>\n",
              "      <td>3</td>\n",
              "      <td>Heikkinen, Miss. Laina</td>\n",
              "      <td>female</td>\n",
              "      <td>26.0</td>\n",
              "      <td>0</td>\n",
              "      <td>0</td>\n",
              "      <td>STON/O2. 3101282</td>\n",
              "      <td>7.9250</td>\n",
              "      <td>NaN</td>\n",
              "      <td>S</td>\n",
              "    </tr>\n",
              "    <tr>\n",
              "      <th>3</th>\n",
              "      <td>4</td>\n",
              "      <td>1</td>\n",
              "      <td>1</td>\n",
              "      <td>Futrelle, Mrs. Jacques Heath (Lily May Peel)</td>\n",
              "      <td>female</td>\n",
              "      <td>35.0</td>\n",
              "      <td>1</td>\n",
              "      <td>0</td>\n",
              "      <td>113803</td>\n",
              "      <td>53.1000</td>\n",
              "      <td>C123</td>\n",
              "      <td>S</td>\n",
              "    </tr>\n",
              "    <tr>\n",
              "      <th>4</th>\n",
              "      <td>5</td>\n",
              "      <td>0</td>\n",
              "      <td>3</td>\n",
              "      <td>Allen, Mr. William Henry</td>\n",
              "      <td>male</td>\n",
              "      <td>35.0</td>\n",
              "      <td>0</td>\n",
              "      <td>0</td>\n",
              "      <td>373450</td>\n",
              "      <td>8.0500</td>\n",
              "      <td>NaN</td>\n",
              "      <td>S</td>\n",
              "    </tr>\n",
              "  </tbody>\n",
              "</table>\n",
              "</div>\n",
              "      <button class=\"colab-df-convert\" onclick=\"convertToInteractive('df-52c881b8-f746-4b6a-9c16-93620ce7db00')\"\n",
              "              title=\"Convert this dataframe to an interactive table.\"\n",
              "              style=\"display:none;\">\n",
              "        \n",
              "  <svg xmlns=\"http://www.w3.org/2000/svg\" height=\"24px\"viewBox=\"0 0 24 24\"\n",
              "       width=\"24px\">\n",
              "    <path d=\"M0 0h24v24H0V0z\" fill=\"none\"/>\n",
              "    <path d=\"M18.56 5.44l.94 2.06.94-2.06 2.06-.94-2.06-.94-.94-2.06-.94 2.06-2.06.94zm-11 1L8.5 8.5l.94-2.06 2.06-.94-2.06-.94L8.5 2.5l-.94 2.06-2.06.94zm10 10l.94 2.06.94-2.06 2.06-.94-2.06-.94-.94-2.06-.94 2.06-2.06.94z\"/><path d=\"M17.41 7.96l-1.37-1.37c-.4-.4-.92-.59-1.43-.59-.52 0-1.04.2-1.43.59L10.3 9.45l-7.72 7.72c-.78.78-.78 2.05 0 2.83L4 21.41c.39.39.9.59 1.41.59.51 0 1.02-.2 1.41-.59l7.78-7.78 2.81-2.81c.8-.78.8-2.07 0-2.86zM5.41 20L4 18.59l7.72-7.72 1.47 1.35L5.41 20z\"/>\n",
              "  </svg>\n",
              "      </button>\n",
              "      \n",
              "  <style>\n",
              "    .colab-df-container {\n",
              "      display:flex;\n",
              "      flex-wrap:wrap;\n",
              "      gap: 12px;\n",
              "    }\n",
              "\n",
              "    .colab-df-convert {\n",
              "      background-color: #E8F0FE;\n",
              "      border: none;\n",
              "      border-radius: 50%;\n",
              "      cursor: pointer;\n",
              "      display: none;\n",
              "      fill: #1967D2;\n",
              "      height: 32px;\n",
              "      padding: 0 0 0 0;\n",
              "      width: 32px;\n",
              "    }\n",
              "\n",
              "    .colab-df-convert:hover {\n",
              "      background-color: #E2EBFA;\n",
              "      box-shadow: 0px 1px 2px rgba(60, 64, 67, 0.3), 0px 1px 3px 1px rgba(60, 64, 67, 0.15);\n",
              "      fill: #174EA6;\n",
              "    }\n",
              "\n",
              "    [theme=dark] .colab-df-convert {\n",
              "      background-color: #3B4455;\n",
              "      fill: #D2E3FC;\n",
              "    }\n",
              "\n",
              "    [theme=dark] .colab-df-convert:hover {\n",
              "      background-color: #434B5C;\n",
              "      box-shadow: 0px 1px 3px 1px rgba(0, 0, 0, 0.15);\n",
              "      filter: drop-shadow(0px 1px 2px rgba(0, 0, 0, 0.3));\n",
              "      fill: #FFFFFF;\n",
              "    }\n",
              "  </style>\n",
              "\n",
              "      <script>\n",
              "        const buttonEl =\n",
              "          document.querySelector('#df-52c881b8-f746-4b6a-9c16-93620ce7db00 button.colab-df-convert');\n",
              "        buttonEl.style.display =\n",
              "          google.colab.kernel.accessAllowed ? 'block' : 'none';\n",
              "\n",
              "        async function convertToInteractive(key) {\n",
              "          const element = document.querySelector('#df-52c881b8-f746-4b6a-9c16-93620ce7db00');\n",
              "          const dataTable =\n",
              "            await google.colab.kernel.invokeFunction('convertToInteractive',\n",
              "                                                     [key], {});\n",
              "          if (!dataTable) return;\n",
              "\n",
              "          const docLinkHtml = 'Like what you see? Visit the ' +\n",
              "            '<a target=\"_blank\" href=https://colab.research.google.com/notebooks/data_table.ipynb>data table notebook</a>'\n",
              "            + ' to learn more about interactive tables.';\n",
              "          element.innerHTML = '';\n",
              "          dataTable['output_type'] = 'display_data';\n",
              "          await google.colab.output.renderOutput(dataTable, element);\n",
              "          const docLink = document.createElement('div');\n",
              "          docLink.innerHTML = docLinkHtml;\n",
              "          element.appendChild(docLink);\n",
              "        }\n",
              "      </script>\n",
              "    </div>\n",
              "  </div>\n",
              "  "
            ]
          },
          "metadata": {},
          "execution_count": 4
        }
      ],
      "source": [
        "train_set = pd.read_csv(train_dic)\n",
        "train_set.head()"
      ]
    },
    {
      "cell_type": "code",
      "execution_count": null,
      "id": "9bae85e7",
      "metadata": {
        "execution": {
          "iopub.execute_input": "2023-03-03T03:52:31.653081Z",
          "iopub.status.busy": "2023-03-03T03:52:31.652318Z",
          "iopub.status.idle": "2023-03-03T03:52:31.676143Z",
          "shell.execute_reply": "2023-03-03T03:52:31.674766Z"
        },
        "papermill": {
          "duration": 0.031607,
          "end_time": "2023-03-03T03:52:31.678918",
          "exception": false,
          "start_time": "2023-03-03T03:52:31.647311",
          "status": "completed"
        },
        "tags": [],
        "colab": {
          "base_uri": "https://localhost:8080/",
          "height": 206
        },
        "id": "9bae85e7",
        "outputId": "5466a46b-213a-4f1d-b70e-d8c509dce0b1"
      },
      "outputs": [
        {
          "output_type": "execute_result",
          "data": {
            "text/plain": [
              "   PassengerId  Pclass                                          Name     Sex  \\\n",
              "0          892       3                              Kelly, Mr. James    male   \n",
              "1          893       3              Wilkes, Mrs. James (Ellen Needs)  female   \n",
              "2          894       2                     Myles, Mr. Thomas Francis    male   \n",
              "3          895       3                              Wirz, Mr. Albert    male   \n",
              "4          896       3  Hirvonen, Mrs. Alexander (Helga E Lindqvist)  female   \n",
              "\n",
              "    Age  SibSp  Parch   Ticket     Fare Cabin Embarked  \n",
              "0  34.5      0      0   330911   7.8292   NaN        Q  \n",
              "1  47.0      1      0   363272   7.0000   NaN        S  \n",
              "2  62.0      0      0   240276   9.6875   NaN        Q  \n",
              "3  27.0      0      0   315154   8.6625   NaN        S  \n",
              "4  22.0      1      1  3101298  12.2875   NaN        S  "
            ],
            "text/html": [
              "\n",
              "  <div id=\"df-49cd91c5-9d61-4a5b-b4cd-ed88243003cb\">\n",
              "    <div class=\"colab-df-container\">\n",
              "      <div>\n",
              "<style scoped>\n",
              "    .dataframe tbody tr th:only-of-type {\n",
              "        vertical-align: middle;\n",
              "    }\n",
              "\n",
              "    .dataframe tbody tr th {\n",
              "        vertical-align: top;\n",
              "    }\n",
              "\n",
              "    .dataframe thead th {\n",
              "        text-align: right;\n",
              "    }\n",
              "</style>\n",
              "<table border=\"1\" class=\"dataframe\">\n",
              "  <thead>\n",
              "    <tr style=\"text-align: right;\">\n",
              "      <th></th>\n",
              "      <th>PassengerId</th>\n",
              "      <th>Pclass</th>\n",
              "      <th>Name</th>\n",
              "      <th>Sex</th>\n",
              "      <th>Age</th>\n",
              "      <th>SibSp</th>\n",
              "      <th>Parch</th>\n",
              "      <th>Ticket</th>\n",
              "      <th>Fare</th>\n",
              "      <th>Cabin</th>\n",
              "      <th>Embarked</th>\n",
              "    </tr>\n",
              "  </thead>\n",
              "  <tbody>\n",
              "    <tr>\n",
              "      <th>0</th>\n",
              "      <td>892</td>\n",
              "      <td>3</td>\n",
              "      <td>Kelly, Mr. James</td>\n",
              "      <td>male</td>\n",
              "      <td>34.5</td>\n",
              "      <td>0</td>\n",
              "      <td>0</td>\n",
              "      <td>330911</td>\n",
              "      <td>7.8292</td>\n",
              "      <td>NaN</td>\n",
              "      <td>Q</td>\n",
              "    </tr>\n",
              "    <tr>\n",
              "      <th>1</th>\n",
              "      <td>893</td>\n",
              "      <td>3</td>\n",
              "      <td>Wilkes, Mrs. James (Ellen Needs)</td>\n",
              "      <td>female</td>\n",
              "      <td>47.0</td>\n",
              "      <td>1</td>\n",
              "      <td>0</td>\n",
              "      <td>363272</td>\n",
              "      <td>7.0000</td>\n",
              "      <td>NaN</td>\n",
              "      <td>S</td>\n",
              "    </tr>\n",
              "    <tr>\n",
              "      <th>2</th>\n",
              "      <td>894</td>\n",
              "      <td>2</td>\n",
              "      <td>Myles, Mr. Thomas Francis</td>\n",
              "      <td>male</td>\n",
              "      <td>62.0</td>\n",
              "      <td>0</td>\n",
              "      <td>0</td>\n",
              "      <td>240276</td>\n",
              "      <td>9.6875</td>\n",
              "      <td>NaN</td>\n",
              "      <td>Q</td>\n",
              "    </tr>\n",
              "    <tr>\n",
              "      <th>3</th>\n",
              "      <td>895</td>\n",
              "      <td>3</td>\n",
              "      <td>Wirz, Mr. Albert</td>\n",
              "      <td>male</td>\n",
              "      <td>27.0</td>\n",
              "      <td>0</td>\n",
              "      <td>0</td>\n",
              "      <td>315154</td>\n",
              "      <td>8.6625</td>\n",
              "      <td>NaN</td>\n",
              "      <td>S</td>\n",
              "    </tr>\n",
              "    <tr>\n",
              "      <th>4</th>\n",
              "      <td>896</td>\n",
              "      <td>3</td>\n",
              "      <td>Hirvonen, Mrs. Alexander (Helga E Lindqvist)</td>\n",
              "      <td>female</td>\n",
              "      <td>22.0</td>\n",
              "      <td>1</td>\n",
              "      <td>1</td>\n",
              "      <td>3101298</td>\n",
              "      <td>12.2875</td>\n",
              "      <td>NaN</td>\n",
              "      <td>S</td>\n",
              "    </tr>\n",
              "  </tbody>\n",
              "</table>\n",
              "</div>\n",
              "      <button class=\"colab-df-convert\" onclick=\"convertToInteractive('df-49cd91c5-9d61-4a5b-b4cd-ed88243003cb')\"\n",
              "              title=\"Convert this dataframe to an interactive table.\"\n",
              "              style=\"display:none;\">\n",
              "        \n",
              "  <svg xmlns=\"http://www.w3.org/2000/svg\" height=\"24px\"viewBox=\"0 0 24 24\"\n",
              "       width=\"24px\">\n",
              "    <path d=\"M0 0h24v24H0V0z\" fill=\"none\"/>\n",
              "    <path d=\"M18.56 5.44l.94 2.06.94-2.06 2.06-.94-2.06-.94-.94-2.06-.94 2.06-2.06.94zm-11 1L8.5 8.5l.94-2.06 2.06-.94-2.06-.94L8.5 2.5l-.94 2.06-2.06.94zm10 10l.94 2.06.94-2.06 2.06-.94-2.06-.94-.94-2.06-.94 2.06-2.06.94z\"/><path d=\"M17.41 7.96l-1.37-1.37c-.4-.4-.92-.59-1.43-.59-.52 0-1.04.2-1.43.59L10.3 9.45l-7.72 7.72c-.78.78-.78 2.05 0 2.83L4 21.41c.39.39.9.59 1.41.59.51 0 1.02-.2 1.41-.59l7.78-7.78 2.81-2.81c.8-.78.8-2.07 0-2.86zM5.41 20L4 18.59l7.72-7.72 1.47 1.35L5.41 20z\"/>\n",
              "  </svg>\n",
              "      </button>\n",
              "      \n",
              "  <style>\n",
              "    .colab-df-container {\n",
              "      display:flex;\n",
              "      flex-wrap:wrap;\n",
              "      gap: 12px;\n",
              "    }\n",
              "\n",
              "    .colab-df-convert {\n",
              "      background-color: #E8F0FE;\n",
              "      border: none;\n",
              "      border-radius: 50%;\n",
              "      cursor: pointer;\n",
              "      display: none;\n",
              "      fill: #1967D2;\n",
              "      height: 32px;\n",
              "      padding: 0 0 0 0;\n",
              "      width: 32px;\n",
              "    }\n",
              "\n",
              "    .colab-df-convert:hover {\n",
              "      background-color: #E2EBFA;\n",
              "      box-shadow: 0px 1px 2px rgba(60, 64, 67, 0.3), 0px 1px 3px 1px rgba(60, 64, 67, 0.15);\n",
              "      fill: #174EA6;\n",
              "    }\n",
              "\n",
              "    [theme=dark] .colab-df-convert {\n",
              "      background-color: #3B4455;\n",
              "      fill: #D2E3FC;\n",
              "    }\n",
              "\n",
              "    [theme=dark] .colab-df-convert:hover {\n",
              "      background-color: #434B5C;\n",
              "      box-shadow: 0px 1px 3px 1px rgba(0, 0, 0, 0.15);\n",
              "      filter: drop-shadow(0px 1px 2px rgba(0, 0, 0, 0.3));\n",
              "      fill: #FFFFFF;\n",
              "    }\n",
              "  </style>\n",
              "\n",
              "      <script>\n",
              "        const buttonEl =\n",
              "          document.querySelector('#df-49cd91c5-9d61-4a5b-b4cd-ed88243003cb button.colab-df-convert');\n",
              "        buttonEl.style.display =\n",
              "          google.colab.kernel.accessAllowed ? 'block' : 'none';\n",
              "\n",
              "        async function convertToInteractive(key) {\n",
              "          const element = document.querySelector('#df-49cd91c5-9d61-4a5b-b4cd-ed88243003cb');\n",
              "          const dataTable =\n",
              "            await google.colab.kernel.invokeFunction('convertToInteractive',\n",
              "                                                     [key], {});\n",
              "          if (!dataTable) return;\n",
              "\n",
              "          const docLinkHtml = 'Like what you see? Visit the ' +\n",
              "            '<a target=\"_blank\" href=https://colab.research.google.com/notebooks/data_table.ipynb>data table notebook</a>'\n",
              "            + ' to learn more about interactive tables.';\n",
              "          element.innerHTML = '';\n",
              "          dataTable['output_type'] = 'display_data';\n",
              "          await google.colab.output.renderOutput(dataTable, element);\n",
              "          const docLink = document.createElement('div');\n",
              "          docLink.innerHTML = docLinkHtml;\n",
              "          element.appendChild(docLink);\n",
              "        }\n",
              "      </script>\n",
              "    </div>\n",
              "  </div>\n",
              "  "
            ]
          },
          "metadata": {},
          "execution_count": 5
        }
      ],
      "source": [
        "test_set = pd.read_csv(test_dic)\n",
        "test_set.head()"
      ]
    },
    {
      "cell_type": "code",
      "execution_count": null,
      "id": "fae5bba3",
      "metadata": {
        "id": "fae5bba3"
      },
      "outputs": [],
      "source": [
        "x= train_set.loc[:, ~train_set.columns.isin(['Survived' ,'Embarked','Cabin','Fare', 'Ticket','Name','PassengerId'])]\n",
        "x_test= test_set.loc[:, ~test_set.columns.isin(['Embarked','Cabin','Fare', 'Ticket','Name','PassengerId'])]\n",
        "#data.loc[:, ~data.columns.isin(['name', 'food_id'])]\n",
        "y = train_set['Survived']"
      ]
    },
    {
      "cell_type": "code",
      "execution_count": null,
      "id": "3989f6c8",
      "metadata": {
        "colab": {
          "base_uri": "https://localhost:8080/"
        },
        "id": "3989f6c8",
        "outputId": "ffee1afa-c571-41ba-b5fa-be5f6fa334ae"
      },
      "outputs": [
        {
          "output_type": "stream",
          "name": "stdout",
          "text": [
            "     Pclass     Sex   Age  SibSp  Parch\n",
            "0         3    male  22.0      1      0\n",
            "1         1  female  38.0      1      0\n",
            "2         3  female  26.0      0      0\n",
            "3         1  female  35.0      1      0\n",
            "4         3    male  35.0      0      0\n",
            "..      ...     ...   ...    ...    ...\n",
            "886       2    male  27.0      0      0\n",
            "887       1  female  19.0      0      0\n",
            "888       3  female   NaN      1      2\n",
            "889       1    male  26.0      0      0\n",
            "890       3    male  32.0      0      0\n",
            "\n",
            "[891 rows x 5 columns]\n",
            "     Pclass     Sex   Age  SibSp  Parch\n",
            "0         3    male  34.5      0      0\n",
            "1         3  female  47.0      1      0\n",
            "2         2    male  62.0      0      0\n",
            "3         3    male  27.0      0      0\n",
            "4         3  female  22.0      1      1\n",
            "..      ...     ...   ...    ...    ...\n",
            "413       3    male   NaN      0      0\n",
            "414       1  female  39.0      0      0\n",
            "415       3    male  38.5      0      0\n",
            "416       3    male   NaN      0      0\n",
            "417       3    male   NaN      1      1\n",
            "\n",
            "[418 rows x 5 columns]\n",
            "0      0\n",
            "1      1\n",
            "2      1\n",
            "3      1\n",
            "4      0\n",
            "      ..\n",
            "886    0\n",
            "887    1\n",
            "888    0\n",
            "889    1\n",
            "890    0\n",
            "Name: Survived, Length: 891, dtype: int64\n"
          ]
        }
      ],
      "source": [
        "print(x)\n",
        "print(x_test)\n",
        "print(y)"
      ]
    },
    {
      "cell_type": "code",
      "execution_count": null,
      "id": "c1cb83a8",
      "metadata": {
        "colab": {
          "base_uri": "https://localhost:8080/"
        },
        "id": "c1cb83a8",
        "outputId": "d39d5a7a-dcae-4607-e9dc-4a79fcd8ee9f"
      },
      "outputs": [
        {
          "output_type": "stream",
          "name": "stderr",
          "text": [
            "<ipython-input-8-530d704c751a>:1: SettingWithCopyWarning: \n",
            "A value is trying to be set on a copy of a slice from a DataFrame.\n",
            "Try using .loc[row_indexer,col_indexer] = value instead\n",
            "\n",
            "See the caveats in the documentation: https://pandas.pydata.org/pandas-docs/stable/user_guide/indexing.html#returning-a-view-versus-a-copy\n",
            "  x[x['Sex']=='male']=0\n",
            "/usr/local/lib/python3.9/dist-packages/pandas/core/indexing.py:1817: SettingWithCopyWarning: \n",
            "A value is trying to be set on a copy of a slice from a DataFrame.\n",
            "Try using .loc[row_indexer,col_indexer] = value instead\n",
            "\n",
            "See the caveats in the documentation: https://pandas.pydata.org/pandas-docs/stable/user_guide/indexing.html#returning-a-view-versus-a-copy\n",
            "  self._setitem_single_column(loc, value, pi)\n",
            "<ipython-input-8-530d704c751a>:2: SettingWithCopyWarning: \n",
            "A value is trying to be set on a copy of a slice from a DataFrame.\n",
            "Try using .loc[row_indexer,col_indexer] = value instead\n",
            "\n",
            "See the caveats in the documentation: https://pandas.pydata.org/pandas-docs/stable/user_guide/indexing.html#returning-a-view-versus-a-copy\n",
            "  x[x['Sex']=='female']=1\n",
            "<ipython-input-8-530d704c751a>:3: SettingWithCopyWarning: \n",
            "A value is trying to be set on a copy of a slice from a DataFrame.\n",
            "Try using .loc[row_indexer,col_indexer] = value instead\n",
            "\n",
            "See the caveats in the documentation: https://pandas.pydata.org/pandas-docs/stable/user_guide/indexing.html#returning-a-view-versus-a-copy\n",
            "  x_test[x_test['Sex']=='male']=0\n",
            "<ipython-input-8-530d704c751a>:4: SettingWithCopyWarning: \n",
            "A value is trying to be set on a copy of a slice from a DataFrame.\n",
            "Try using .loc[row_indexer,col_indexer] = value instead\n",
            "\n",
            "See the caveats in the documentation: https://pandas.pydata.org/pandas-docs/stable/user_guide/indexing.html#returning-a-view-versus-a-copy\n",
            "  x_test[x_test['Sex']=='female']=1\n"
          ]
        }
      ],
      "source": [
        "x[x['Sex']=='male']=0\n",
        "x[x['Sex']=='female']=1\n",
        "x_test[x_test['Sex']=='male']=0\n",
        "x_test[x_test['Sex']=='female']=1"
      ]
    },
    {
      "cell_type": "code",
      "execution_count": null,
      "id": "b7b4fc64",
      "metadata": {
        "colab": {
          "base_uri": "https://localhost:8080/"
        },
        "id": "b7b4fc64",
        "outputId": "e71ee8a8-37fa-4df7-e8c8-f03ccb5249fd"
      },
      "outputs": [
        {
          "output_type": "stream",
          "name": "stdout",
          "text": [
            "     Pclass Sex  Age  SibSp  Parch\n",
            "0         0   0  0.0      0      0\n",
            "1         1   1  1.0      1      1\n",
            "2         1   1  1.0      1      1\n",
            "3         1   1  1.0      1      1\n",
            "4         0   0  0.0      0      0\n",
            "..      ...  ..  ...    ...    ...\n",
            "886       0   0  0.0      0      0\n",
            "887       1   1  1.0      1      1\n",
            "888       1   1  1.0      1      1\n",
            "889       0   0  0.0      0      0\n",
            "890       0   0  0.0      0      0\n",
            "\n",
            "[891 rows x 5 columns]\n"
          ]
        }
      ],
      "source": [
        "print(x)"
      ]
    },
    {
      "cell_type": "markdown",
      "id": "e19db05e",
      "metadata": {
        "id": "e19db05e"
      },
      "source": [
        "## Logistic Regression"
      ]
    },
    {
      "cell_type": "code",
      "execution_count": null,
      "id": "9d319f7f",
      "metadata": {
        "colab": {
          "base_uri": "https://localhost:8080/"
        },
        "id": "9d319f7f",
        "outputId": "4b55eaa7-c54e-4e67-d4f6-18ae39a4e7ac"
      },
      "outputs": [
        {
          "output_type": "stream",
          "name": "stdout",
          "text": [
            "Accuracy 0.81\n"
          ]
        }
      ],
      "source": [
        "X_train, X_test, y_train, y_test = train_test_split(x, y, test_size=0.3)\n",
        "lr = LogisticRegression(solver='lbfgs', max_iter= 1000000)\n",
        "lr.fit(X_train, y_train)\n",
        "y_predict = lr.predict(X_test)\n",
        "print(\"Accuracy %.2f\" %metrics.accuracy_score(y_test, y_predict))"
      ]
    },
    {
      "cell_type": "code",
      "execution_count": null,
      "id": "e08811ce",
      "metadata": {
        "id": "e08811ce"
      },
      "outputs": [],
      "source": [
        "test_nature=(lr.predict(x_test))"
      ]
    },
    {
      "cell_type": "code",
      "execution_count": null,
      "id": "cf8afc28",
      "metadata": {
        "colab": {
          "base_uri": "https://localhost:8080/"
        },
        "id": "cf8afc28",
        "outputId": "57c092b7-e6e8-4ef0-c0cc-578f170608d4"
      },
      "outputs": [
        {
          "output_type": "stream",
          "name": "stdout",
          "text": [
            "Your submission was successfully saved!\n"
          ]
        }
      ],
      "source": [
        "output = pd.DataFrame({'PassengerId': test_set.PassengerId, 'Survived': test_nature})\n",
        "output.to_csv('submission.csv', index=False)\n",
        "print(\"Your submission was successfully saved!\")"
      ]
    },
    {
      "cell_type": "code",
      "execution_count": null,
      "id": "942c74cd",
      "metadata": {
        "id": "942c74cd"
      },
      "outputs": [],
      "source": []
    },
    {
      "cell_type": "markdown",
      "id": "c9e79cd4",
      "metadata": {
        "id": "c9e79cd4"
      },
      "source": [
        "## Scaling the Data"
      ]
    },
    {
      "cell_type": "code",
      "execution_count": null,
      "id": "9be1e011",
      "metadata": {
        "id": "9be1e011"
      },
      "outputs": [],
      "source": [
        "mean_= x.mean(axis=0)"
      ]
    },
    {
      "cell_type": "code",
      "execution_count": null,
      "id": "c9a97b78",
      "metadata": {
        "id": "c9a97b78",
        "outputId": "c7d945d7-84ea-437e-a0c9-c2495f78d7e5"
      },
      "outputs": [
        {
          "name": "stdout",
          "output_type": "stream",
          "text": [
            "Pclass    0.352413\n",
            "Sex       0.352413\n",
            "Age       0.352413\n",
            "SibSp     0.352413\n",
            "Parch     0.352413\n",
            "dtype: float64\n"
          ]
        }
      ],
      "source": [
        "print(mean_)"
      ]
    },
    {
      "cell_type": "code",
      "execution_count": null,
      "id": "c2d82628",
      "metadata": {
        "id": "c2d82628"
      },
      "outputs": [],
      "source": [
        "std_=x.std()"
      ]
    },
    {
      "cell_type": "code",
      "execution_count": null,
      "id": "77316efd",
      "metadata": {
        "id": "77316efd",
        "outputId": "13066946-2c91-4a9e-b1c6-6a0b216869cb"
      },
      "outputs": [
        {
          "name": "stdout",
          "output_type": "stream",
          "text": [
            "Pclass    0.47799\n",
            "Sex       0.47799\n",
            "Age       0.47799\n",
            "SibSp     0.47799\n",
            "Parch     0.47799\n",
            "dtype: float64\n"
          ]
        }
      ],
      "source": [
        "print(std_)"
      ]
    },
    {
      "cell_type": "code",
      "execution_count": null,
      "id": "c02de206",
      "metadata": {
        "id": "c02de206"
      },
      "outputs": [],
      "source": [
        "x=(x-mean_)/std_"
      ]
    },
    {
      "cell_type": "code",
      "execution_count": null,
      "id": "aff2222e",
      "metadata": {
        "id": "aff2222e",
        "outputId": "d225a21d-53ee-4460-c4f1-5bba18d9e8bd"
      },
      "outputs": [
        {
          "data": {
            "text/html": [
              "<div>\n",
              "<style scoped>\n",
              "    .dataframe tbody tr th:only-of-type {\n",
              "        vertical-align: middle;\n",
              "    }\n",
              "\n",
              "    .dataframe tbody tr th {\n",
              "        vertical-align: top;\n",
              "    }\n",
              "\n",
              "    .dataframe thead th {\n",
              "        text-align: right;\n",
              "    }\n",
              "</style>\n",
              "<table border=\"1\" class=\"dataframe\">\n",
              "  <thead>\n",
              "    <tr style=\"text-align: right;\">\n",
              "      <th></th>\n",
              "      <th>Pclass</th>\n",
              "      <th>Sex</th>\n",
              "      <th>Age</th>\n",
              "      <th>SibSp</th>\n",
              "      <th>Parch</th>\n",
              "    </tr>\n",
              "  </thead>\n",
              "  <tbody>\n",
              "    <tr>\n",
              "      <th>0</th>\n",
              "      <td>-0.737281</td>\n",
              "      <td>-0.737281</td>\n",
              "      <td>-0.737281</td>\n",
              "      <td>-0.737281</td>\n",
              "      <td>-0.737281</td>\n",
              "    </tr>\n",
              "    <tr>\n",
              "      <th>1</th>\n",
              "      <td>1.354813</td>\n",
              "      <td>1.354813</td>\n",
              "      <td>1.354813</td>\n",
              "      <td>1.354813</td>\n",
              "      <td>1.354813</td>\n",
              "    </tr>\n",
              "    <tr>\n",
              "      <th>2</th>\n",
              "      <td>1.354813</td>\n",
              "      <td>1.354813</td>\n",
              "      <td>1.354813</td>\n",
              "      <td>1.354813</td>\n",
              "      <td>1.354813</td>\n",
              "    </tr>\n",
              "    <tr>\n",
              "      <th>3</th>\n",
              "      <td>1.354813</td>\n",
              "      <td>1.354813</td>\n",
              "      <td>1.354813</td>\n",
              "      <td>1.354813</td>\n",
              "      <td>1.354813</td>\n",
              "    </tr>\n",
              "    <tr>\n",
              "      <th>4</th>\n",
              "      <td>-0.737281</td>\n",
              "      <td>-0.737281</td>\n",
              "      <td>-0.737281</td>\n",
              "      <td>-0.737281</td>\n",
              "      <td>-0.737281</td>\n",
              "    </tr>\n",
              "    <tr>\n",
              "      <th>...</th>\n",
              "      <td>...</td>\n",
              "      <td>...</td>\n",
              "      <td>...</td>\n",
              "      <td>...</td>\n",
              "      <td>...</td>\n",
              "    </tr>\n",
              "    <tr>\n",
              "      <th>886</th>\n",
              "      <td>-0.737281</td>\n",
              "      <td>-0.737281</td>\n",
              "      <td>-0.737281</td>\n",
              "      <td>-0.737281</td>\n",
              "      <td>-0.737281</td>\n",
              "    </tr>\n",
              "    <tr>\n",
              "      <th>887</th>\n",
              "      <td>1.354813</td>\n",
              "      <td>1.354813</td>\n",
              "      <td>1.354813</td>\n",
              "      <td>1.354813</td>\n",
              "      <td>1.354813</td>\n",
              "    </tr>\n",
              "    <tr>\n",
              "      <th>888</th>\n",
              "      <td>1.354813</td>\n",
              "      <td>1.354813</td>\n",
              "      <td>1.354813</td>\n",
              "      <td>1.354813</td>\n",
              "      <td>1.354813</td>\n",
              "    </tr>\n",
              "    <tr>\n",
              "      <th>889</th>\n",
              "      <td>-0.737281</td>\n",
              "      <td>-0.737281</td>\n",
              "      <td>-0.737281</td>\n",
              "      <td>-0.737281</td>\n",
              "      <td>-0.737281</td>\n",
              "    </tr>\n",
              "    <tr>\n",
              "      <th>890</th>\n",
              "      <td>-0.737281</td>\n",
              "      <td>-0.737281</td>\n",
              "      <td>-0.737281</td>\n",
              "      <td>-0.737281</td>\n",
              "      <td>-0.737281</td>\n",
              "    </tr>\n",
              "  </tbody>\n",
              "</table>\n",
              "<p>891 rows × 5 columns</p>\n",
              "</div>"
            ],
            "text/plain": [
              "       Pclass       Sex       Age     SibSp     Parch\n",
              "0   -0.737281 -0.737281 -0.737281 -0.737281 -0.737281\n",
              "1    1.354813  1.354813  1.354813  1.354813  1.354813\n",
              "2    1.354813  1.354813  1.354813  1.354813  1.354813\n",
              "3    1.354813  1.354813  1.354813  1.354813  1.354813\n",
              "4   -0.737281 -0.737281 -0.737281 -0.737281 -0.737281\n",
              "..        ...       ...       ...       ...       ...\n",
              "886 -0.737281 -0.737281 -0.737281 -0.737281 -0.737281\n",
              "887  1.354813  1.354813  1.354813  1.354813  1.354813\n",
              "888  1.354813  1.354813  1.354813  1.354813  1.354813\n",
              "889 -0.737281 -0.737281 -0.737281 -0.737281 -0.737281\n",
              "890 -0.737281 -0.737281 -0.737281 -0.737281 -0.737281\n",
              "\n",
              "[891 rows x 5 columns]"
            ]
          },
          "execution_count": 26,
          "metadata": {},
          "output_type": "execute_result"
        }
      ],
      "source": [
        "x"
      ]
    },
    {
      "cell_type": "code",
      "execution_count": null,
      "id": "eb3bbacd",
      "metadata": {
        "id": "eb3bbacd",
        "outputId": "1f79be68-6c31-41fa-cd5e-4aa205d5d72e"
      },
      "outputs": [
        {
          "name": "stdout",
          "output_type": "stream",
          "text": [
            "Accuracy 0.83\n"
          ]
        }
      ],
      "source": [
        "X_train, X_test, y_train, y_test = train_test_split(x, y, test_size=0.3)\n",
        "lr = LogisticRegression(solver='lbfgs', max_iter= 1000000)\n",
        "lr.fit(X_train, y_train)\n",
        "y_predict = lr.predict(X_test)\n",
        "print(\"Accuracy %.2f\" %metrics.accuracy_score(y_test, y_predict))"
      ]
    },
    {
      "cell_type": "code",
      "execution_count": null,
      "id": "11bf69b1",
      "metadata": {
        "id": "11bf69b1",
        "outputId": "ba3cda3d-33c4-4ab1-f726-1d6173d83b38"
      },
      "outputs": [
        {
          "name": "stdout",
          "output_type": "stream",
          "text": [
            "       Pclass       Sex       Age     SibSp     Parch\n",
            "0   -0.755024 -0.755024 -0.755024 -0.755024 -0.755024\n",
            "1    1.321292  1.321292  1.321292  1.321292  1.321292\n",
            "2   -0.755024 -0.755024 -0.755024 -0.755024 -0.755024\n",
            "3   -0.755024 -0.755024 -0.755024 -0.755024 -0.755024\n",
            "4    1.321292  1.321292  1.321292  1.321292  1.321292\n",
            "..        ...       ...       ...       ...       ...\n",
            "413 -0.755024 -0.755024 -0.755024 -0.755024 -0.755024\n",
            "414  1.321292  1.321292  1.321292  1.321292  1.321292\n",
            "415 -0.755024 -0.755024 -0.755024 -0.755024 -0.755024\n",
            "416 -0.755024 -0.755024 -0.755024 -0.755024 -0.755024\n",
            "417 -0.755024 -0.755024 -0.755024 -0.755024 -0.755024\n",
            "\n",
            "[418 rows x 5 columns]\n"
          ]
        }
      ],
      "source": [
        "mean_= x_test.mean(axis=0)\n",
        "std_=x_test.std()\n",
        "x_test= (x_test- mean_)/std_\n",
        "print(x_test)"
      ]
    },
    {
      "cell_type": "code",
      "execution_count": null,
      "id": "27951d14",
      "metadata": {
        "id": "27951d14"
      },
      "outputs": [],
      "source": [
        "test_nature=(lr.predict(x_test))"
      ]
    },
    {
      "cell_type": "code",
      "execution_count": null,
      "id": "4df5826b",
      "metadata": {
        "id": "4df5826b",
        "outputId": "f8a3d775-c8ed-4007-ef0a-f5b295230623"
      },
      "outputs": [
        {
          "name": "stdout",
          "output_type": "stream",
          "text": [
            "Your submission was successfully saved!\n"
          ]
        }
      ],
      "source": [
        "output = pd.DataFrame({'PassengerId': test_set.PassengerId, 'Survived': test_nature})\n",
        "output.to_csv('submission.csv', index=False)\n",
        "print(\"Your submission was successfully saved!\")"
      ]
    },
    {
      "cell_type": "code",
      "execution_count": null,
      "id": "32e42cf2",
      "metadata": {
        "papermill": {
          "duration": 0.003768,
          "end_time": "2023-03-03T03:52:33.580048",
          "exception": false,
          "start_time": "2023-03-03T03:52:33.576280",
          "status": "completed"
        },
        "tags": [],
        "id": "32e42cf2"
      },
      "outputs": [],
      "source": []
    }
  ],
  "metadata": {
    "kernelspec": {
      "display_name": "Python 3 (ipykernel)",
      "language": "python",
      "name": "python3"
    },
    "language_info": {
      "codemirror_mode": {
        "name": "ipython",
        "version": 3
      },
      "file_extension": ".py",
      "mimetype": "text/x-python",
      "name": "python",
      "nbconvert_exporter": "python",
      "pygments_lexer": "ipython3",
      "version": "3.9.13"
    },
    "papermill": {
      "default_parameters": {},
      "duration": 13.447539,
      "end_time": "2023-03-03T03:52:34.407849",
      "environment_variables": {},
      "exception": null,
      "input_path": "__notebook__.ipynb",
      "output_path": "__notebook__.ipynb",
      "parameters": {},
      "start_time": "2023-03-03T03:52:20.960310",
      "version": "2.4.0"
    },
    "colab": {
      "provenance": []
    }
  },
  "nbformat": 4,
  "nbformat_minor": 5
}