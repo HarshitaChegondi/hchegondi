{
 "cells": [
  {
   "cell_type": "code",
   "execution_count": 1,
   "id": "00c880ce",
   "metadata": {
    "_cell_guid": "b1076dfc-b9ad-4769-8c92-a6c4dae69d19",
    "_uuid": "8f2839f25d086af736a60e9eeb907d3b93b6e0e5",
    "execution": {
     "iopub.execute_input": "2023-03-03T03:52:31.564772Z",
     "iopub.status.busy": "2023-03-03T03:52:31.564060Z",
     "iopub.status.idle": "2023-03-03T03:52:31.579507Z",
     "shell.execute_reply": "2023-03-03T03:52:31.578200Z"
    },
    "papermill": {
     "duration": 0.024551,
     "end_time": "2023-03-03T03:52:31.582870",
     "exception": false,
     "start_time": "2023-03-03T03:52:31.558319",
     "status": "completed"
    },
    "tags": []
   },
   "outputs": [],
   "source": [
    "\n",
    "import numpy as np \n",
    "import pandas as pd\n",
    "\n",
    "from sklearn.metrics import accuracy_score\n",
    "from sklearn.preprocessing import StandardScaler\n",
    "from sklearn.linear_model import LogisticRegression\n",
    "from sklearn.model_selection import train_test_split\n",
    "from sklearn import metrics\n",
    "import os\n"
   ]
  },
  {
   "cell_type": "code",
   "execution_count": 17,
   "id": "0f6128e7",
   "metadata": {},
   "outputs": [
    {
     "name": "stdout",
     "output_type": "stream",
     "text": [
      "/Users/mehersuneelmeesala/Desktop/Harshita code/HW/train.csv\n"
     ]
    }
   ],
   "source": [
    "working_dic= os.getcwd()\n",
    "train_dic=working_dic+'/train.csv'\n",
    "test_dic = working_dic+'/test.csv'\n",
    "print(train_dic)"
   ]
  },
  {
   "cell_type": "code",
   "execution_count": 18,
   "id": "a964ef61",
   "metadata": {
    "execution": {
     "iopub.execute_input": "2023-03-03T03:52:31.591647Z",
     "iopub.status.busy": "2023-03-03T03:52:31.590614Z",
     "iopub.status.idle": "2023-03-03T03:52:31.640483Z",
     "shell.execute_reply": "2023-03-03T03:52:31.639040Z"
    },
    "papermill": {
     "duration": 0.05747,
     "end_time": "2023-03-03T03:52:31.643614",
     "exception": false,
     "start_time": "2023-03-03T03:52:31.586144",
     "status": "completed"
    },
    "tags": []
   },
   "outputs": [
    {
     "data": {
      "text/html": [
       "<div>\n",
       "<style scoped>\n",
       "    .dataframe tbody tr th:only-of-type {\n",
       "        vertical-align: middle;\n",
       "    }\n",
       "\n",
       "    .dataframe tbody tr th {\n",
       "        vertical-align: top;\n",
       "    }\n",
       "\n",
       "    .dataframe thead th {\n",
       "        text-align: right;\n",
       "    }\n",
       "</style>\n",
       "<table border=\"1\" class=\"dataframe\">\n",
       "  <thead>\n",
       "    <tr style=\"text-align: right;\">\n",
       "      <th></th>\n",
       "      <th>PassengerId</th>\n",
       "      <th>Survived</th>\n",
       "      <th>Pclass</th>\n",
       "      <th>Name</th>\n",
       "      <th>Sex</th>\n",
       "      <th>Age</th>\n",
       "      <th>SibSp</th>\n",
       "      <th>Parch</th>\n",
       "      <th>Ticket</th>\n",
       "      <th>Fare</th>\n",
       "      <th>Cabin</th>\n",
       "      <th>Embarked</th>\n",
       "    </tr>\n",
       "  </thead>\n",
       "  <tbody>\n",
       "    <tr>\n",
       "      <th>0</th>\n",
       "      <td>1</td>\n",
       "      <td>0</td>\n",
       "      <td>3</td>\n",
       "      <td>Braund, Mr. Owen Harris</td>\n",
       "      <td>male</td>\n",
       "      <td>22.0</td>\n",
       "      <td>1</td>\n",
       "      <td>0</td>\n",
       "      <td>A/5 21171</td>\n",
       "      <td>7.2500</td>\n",
       "      <td>NaN</td>\n",
       "      <td>S</td>\n",
       "    </tr>\n",
       "    <tr>\n",
       "      <th>1</th>\n",
       "      <td>2</td>\n",
       "      <td>1</td>\n",
       "      <td>1</td>\n",
       "      <td>Cumings, Mrs. John Bradley (Florence Briggs Th...</td>\n",
       "      <td>female</td>\n",
       "      <td>38.0</td>\n",
       "      <td>1</td>\n",
       "      <td>0</td>\n",
       "      <td>PC 17599</td>\n",
       "      <td>71.2833</td>\n",
       "      <td>C85</td>\n",
       "      <td>C</td>\n",
       "    </tr>\n",
       "    <tr>\n",
       "      <th>2</th>\n",
       "      <td>3</td>\n",
       "      <td>1</td>\n",
       "      <td>3</td>\n",
       "      <td>Heikkinen, Miss. Laina</td>\n",
       "      <td>female</td>\n",
       "      <td>26.0</td>\n",
       "      <td>0</td>\n",
       "      <td>0</td>\n",
       "      <td>STON/O2. 3101282</td>\n",
       "      <td>7.9250</td>\n",
       "      <td>NaN</td>\n",
       "      <td>S</td>\n",
       "    </tr>\n",
       "    <tr>\n",
       "      <th>3</th>\n",
       "      <td>4</td>\n",
       "      <td>1</td>\n",
       "      <td>1</td>\n",
       "      <td>Futrelle, Mrs. Jacques Heath (Lily May Peel)</td>\n",
       "      <td>female</td>\n",
       "      <td>35.0</td>\n",
       "      <td>1</td>\n",
       "      <td>0</td>\n",
       "      <td>113803</td>\n",
       "      <td>53.1000</td>\n",
       "      <td>C123</td>\n",
       "      <td>S</td>\n",
       "    </tr>\n",
       "    <tr>\n",
       "      <th>4</th>\n",
       "      <td>5</td>\n",
       "      <td>0</td>\n",
       "      <td>3</td>\n",
       "      <td>Allen, Mr. William Henry</td>\n",
       "      <td>male</td>\n",
       "      <td>35.0</td>\n",
       "      <td>0</td>\n",
       "      <td>0</td>\n",
       "      <td>373450</td>\n",
       "      <td>8.0500</td>\n",
       "      <td>NaN</td>\n",
       "      <td>S</td>\n",
       "    </tr>\n",
       "  </tbody>\n",
       "</table>\n",
       "</div>"
      ],
      "text/plain": [
       "   PassengerId  Survived  Pclass  \\\n",
       "0            1         0       3   \n",
       "1            2         1       1   \n",
       "2            3         1       3   \n",
       "3            4         1       1   \n",
       "4            5         0       3   \n",
       "\n",
       "                                                Name     Sex   Age  SibSp  \\\n",
       "0                            Braund, Mr. Owen Harris    male  22.0      1   \n",
       "1  Cumings, Mrs. John Bradley (Florence Briggs Th...  female  38.0      1   \n",
       "2                             Heikkinen, Miss. Laina  female  26.0      0   \n",
       "3       Futrelle, Mrs. Jacques Heath (Lily May Peel)  female  35.0      1   \n",
       "4                           Allen, Mr. William Henry    male  35.0      0   \n",
       "\n",
       "   Parch            Ticket     Fare Cabin Embarked  \n",
       "0      0         A/5 21171   7.2500   NaN        S  \n",
       "1      0          PC 17599  71.2833   C85        C  \n",
       "2      0  STON/O2. 3101282   7.9250   NaN        S  \n",
       "3      0            113803  53.1000  C123        S  \n",
       "4      0            373450   8.0500   NaN        S  "
      ]
     },
     "execution_count": 18,
     "metadata": {},
     "output_type": "execute_result"
    }
   ],
   "source": [
    "train_set = pd.read_csv(train_dic)\n",
    "train_set.head()"
   ]
  },
  {
   "cell_type": "code",
   "execution_count": 19,
   "id": "9bae85e7",
   "metadata": {
    "execution": {
     "iopub.execute_input": "2023-03-03T03:52:31.653081Z",
     "iopub.status.busy": "2023-03-03T03:52:31.652318Z",
     "iopub.status.idle": "2023-03-03T03:52:31.676143Z",
     "shell.execute_reply": "2023-03-03T03:52:31.674766Z"
    },
    "papermill": {
     "duration": 0.031607,
     "end_time": "2023-03-03T03:52:31.678918",
     "exception": false,
     "start_time": "2023-03-03T03:52:31.647311",
     "status": "completed"
    },
    "tags": []
   },
   "outputs": [
    {
     "data": {
      "text/html": [
       "<div>\n",
       "<style scoped>\n",
       "    .dataframe tbody tr th:only-of-type {\n",
       "        vertical-align: middle;\n",
       "    }\n",
       "\n",
       "    .dataframe tbody tr th {\n",
       "        vertical-align: top;\n",
       "    }\n",
       "\n",
       "    .dataframe thead th {\n",
       "        text-align: right;\n",
       "    }\n",
       "</style>\n",
       "<table border=\"1\" class=\"dataframe\">\n",
       "  <thead>\n",
       "    <tr style=\"text-align: right;\">\n",
       "      <th></th>\n",
       "      <th>PassengerId</th>\n",
       "      <th>Pclass</th>\n",
       "      <th>Name</th>\n",
       "      <th>Sex</th>\n",
       "      <th>Age</th>\n",
       "      <th>SibSp</th>\n",
       "      <th>Parch</th>\n",
       "      <th>Ticket</th>\n",
       "      <th>Fare</th>\n",
       "      <th>Cabin</th>\n",
       "      <th>Embarked</th>\n",
       "    </tr>\n",
       "  </thead>\n",
       "  <tbody>\n",
       "    <tr>\n",
       "      <th>0</th>\n",
       "      <td>892</td>\n",
       "      <td>3</td>\n",
       "      <td>Kelly, Mr. James</td>\n",
       "      <td>male</td>\n",
       "      <td>34.5</td>\n",
       "      <td>0</td>\n",
       "      <td>0</td>\n",
       "      <td>330911</td>\n",
       "      <td>7.8292</td>\n",
       "      <td>NaN</td>\n",
       "      <td>Q</td>\n",
       "    </tr>\n",
       "    <tr>\n",
       "      <th>1</th>\n",
       "      <td>893</td>\n",
       "      <td>3</td>\n",
       "      <td>Wilkes, Mrs. James (Ellen Needs)</td>\n",
       "      <td>female</td>\n",
       "      <td>47.0</td>\n",
       "      <td>1</td>\n",
       "      <td>0</td>\n",
       "      <td>363272</td>\n",
       "      <td>7.0000</td>\n",
       "      <td>NaN</td>\n",
       "      <td>S</td>\n",
       "    </tr>\n",
       "    <tr>\n",
       "      <th>2</th>\n",
       "      <td>894</td>\n",
       "      <td>2</td>\n",
       "      <td>Myles, Mr. Thomas Francis</td>\n",
       "      <td>male</td>\n",
       "      <td>62.0</td>\n",
       "      <td>0</td>\n",
       "      <td>0</td>\n",
       "      <td>240276</td>\n",
       "      <td>9.6875</td>\n",
       "      <td>NaN</td>\n",
       "      <td>Q</td>\n",
       "    </tr>\n",
       "    <tr>\n",
       "      <th>3</th>\n",
       "      <td>895</td>\n",
       "      <td>3</td>\n",
       "      <td>Wirz, Mr. Albert</td>\n",
       "      <td>male</td>\n",
       "      <td>27.0</td>\n",
       "      <td>0</td>\n",
       "      <td>0</td>\n",
       "      <td>315154</td>\n",
       "      <td>8.6625</td>\n",
       "      <td>NaN</td>\n",
       "      <td>S</td>\n",
       "    </tr>\n",
       "    <tr>\n",
       "      <th>4</th>\n",
       "      <td>896</td>\n",
       "      <td>3</td>\n",
       "      <td>Hirvonen, Mrs. Alexander (Helga E Lindqvist)</td>\n",
       "      <td>female</td>\n",
       "      <td>22.0</td>\n",
       "      <td>1</td>\n",
       "      <td>1</td>\n",
       "      <td>3101298</td>\n",
       "      <td>12.2875</td>\n",
       "      <td>NaN</td>\n",
       "      <td>S</td>\n",
       "    </tr>\n",
       "  </tbody>\n",
       "</table>\n",
       "</div>"
      ],
      "text/plain": [
       "   PassengerId  Pclass                                          Name     Sex  \\\n",
       "0          892       3                              Kelly, Mr. James    male   \n",
       "1          893       3              Wilkes, Mrs. James (Ellen Needs)  female   \n",
       "2          894       2                     Myles, Mr. Thomas Francis    male   \n",
       "3          895       3                              Wirz, Mr. Albert    male   \n",
       "4          896       3  Hirvonen, Mrs. Alexander (Helga E Lindqvist)  female   \n",
       "\n",
       "    Age  SibSp  Parch   Ticket     Fare Cabin Embarked  \n",
       "0  34.5      0      0   330911   7.8292   NaN        Q  \n",
       "1  47.0      1      0   363272   7.0000   NaN        S  \n",
       "2  62.0      0      0   240276   9.6875   NaN        Q  \n",
       "3  27.0      0      0   315154   8.6625   NaN        S  \n",
       "4  22.0      1      1  3101298  12.2875   NaN        S  "
      ]
     },
     "execution_count": 19,
     "metadata": {},
     "output_type": "execute_result"
    }
   ],
   "source": [
    "test_set = pd.read_csv(test_dic)\n",
    "test_set.head()"
   ]
  },
  {
   "cell_type": "code",
   "execution_count": 9,
   "id": "fae5bba3",
   "metadata": {},
   "outputs": [],
   "source": [
    "x= train_set.loc[:, ~train_set.columns.isin(['Survived' ,'Embarked','Cabin','Fare', 'Ticket','Name','PassengerId'])]\n",
    "x_test= test_set.loc[:, ~test_set.columns.isin(['Embarked','Cabin','Fare', 'Ticket','Name','PassengerId'])]\n",
    "#data.loc[:, ~data.columns.isin(['name', 'food_id'])]\n",
    "y = train_set['Survived']"
   ]
  },
  {
   "cell_type": "code",
   "execution_count": 10,
   "id": "3989f6c8",
   "metadata": {},
   "outputs": [
    {
     "name": "stdout",
     "output_type": "stream",
     "text": [
      "     Pclass     Sex   Age  SibSp  Parch\n",
      "0         3    male  22.0      1      0\n",
      "1         1  female  38.0      1      0\n",
      "2         3  female  26.0      0      0\n",
      "3         1  female  35.0      1      0\n",
      "4         3    male  35.0      0      0\n",
      "..      ...     ...   ...    ...    ...\n",
      "886       2    male  27.0      0      0\n",
      "887       1  female  19.0      0      0\n",
      "888       3  female   NaN      1      2\n",
      "889       1    male  26.0      0      0\n",
      "890       3    male  32.0      0      0\n",
      "\n",
      "[891 rows x 5 columns]\n",
      "     Pclass     Sex   Age  SibSp  Parch\n",
      "0         3    male  34.5      0      0\n",
      "1         3  female  47.0      1      0\n",
      "2         2    male  62.0      0      0\n",
      "3         3    male  27.0      0      0\n",
      "4         3  female  22.0      1      1\n",
      "..      ...     ...   ...    ...    ...\n",
      "413       3    male   NaN      0      0\n",
      "414       1  female  39.0      0      0\n",
      "415       3    male  38.5      0      0\n",
      "416       3    male   NaN      0      0\n",
      "417       3    male   NaN      1      1\n",
      "\n",
      "[418 rows x 5 columns]\n",
      "0      0\n",
      "1      1\n",
      "2      1\n",
      "3      1\n",
      "4      0\n",
      "      ..\n",
      "886    0\n",
      "887    1\n",
      "888    0\n",
      "889    1\n",
      "890    0\n",
      "Name: Survived, Length: 891, dtype: int64\n"
     ]
    }
   ],
   "source": [
    "print(x)\n",
    "print(x_test)\n",
    "print(y)"
   ]
  },
  {
   "cell_type": "code",
   "execution_count": 11,
   "id": "c1cb83a8",
   "metadata": {},
   "outputs": [
    {
     "name": "stderr",
     "output_type": "stream",
     "text": [
      "/var/folders/f7/5_rs0ln121z7hspqcqtqhk2c0000gn/T/ipykernel_31683/2467139593.py:1: SettingWithCopyWarning: \n",
      "A value is trying to be set on a copy of a slice from a DataFrame.\n",
      "Try using .loc[row_indexer,col_indexer] = value instead\n",
      "\n",
      "See the caveats in the documentation: https://pandas.pydata.org/pandas-docs/stable/user_guide/indexing.html#returning-a-view-versus-a-copy\n",
      "  x[x['Sex']=='male']=0\n",
      "/var/folders/f7/5_rs0ln121z7hspqcqtqhk2c0000gn/T/ipykernel_31683/2467139593.py:2: SettingWithCopyWarning: \n",
      "A value is trying to be set on a copy of a slice from a DataFrame.\n",
      "Try using .loc[row_indexer,col_indexer] = value instead\n",
      "\n",
      "See the caveats in the documentation: https://pandas.pydata.org/pandas-docs/stable/user_guide/indexing.html#returning-a-view-versus-a-copy\n",
      "  x[x['Sex']=='female']=1\n",
      "/var/folders/f7/5_rs0ln121z7hspqcqtqhk2c0000gn/T/ipykernel_31683/2467139593.py:3: SettingWithCopyWarning: \n",
      "A value is trying to be set on a copy of a slice from a DataFrame.\n",
      "Try using .loc[row_indexer,col_indexer] = value instead\n",
      "\n",
      "See the caveats in the documentation: https://pandas.pydata.org/pandas-docs/stable/user_guide/indexing.html#returning-a-view-versus-a-copy\n",
      "  x_test[x_test['Sex']=='male']=0\n",
      "/var/folders/f7/5_rs0ln121z7hspqcqtqhk2c0000gn/T/ipykernel_31683/2467139593.py:4: SettingWithCopyWarning: \n",
      "A value is trying to be set on a copy of a slice from a DataFrame.\n",
      "Try using .loc[row_indexer,col_indexer] = value instead\n",
      "\n",
      "See the caveats in the documentation: https://pandas.pydata.org/pandas-docs/stable/user_guide/indexing.html#returning-a-view-versus-a-copy\n",
      "  x_test[x_test['Sex']=='female']=1\n"
     ]
    }
   ],
   "source": [
    "x[x['Sex']=='male']=0\n",
    "x[x['Sex']=='female']=1\n",
    "x_test[x_test['Sex']=='male']=0\n",
    "x_test[x_test['Sex']=='female']=1"
   ]
  },
  {
   "cell_type": "code",
   "execution_count": 12,
   "id": "b7b4fc64",
   "metadata": {},
   "outputs": [
    {
     "name": "stdout",
     "output_type": "stream",
     "text": [
      "     Pclass Sex  Age  SibSp  Parch\n",
      "0         0   0  0.0      0      0\n",
      "1         1   1  1.0      1      1\n",
      "2         1   1  1.0      1      1\n",
      "3         1   1  1.0      1      1\n",
      "4         0   0  0.0      0      0\n",
      "..      ...  ..  ...    ...    ...\n",
      "886       0   0  0.0      0      0\n",
      "887       1   1  1.0      1      1\n",
      "888       1   1  1.0      1      1\n",
      "889       0   0  0.0      0      0\n",
      "890       0   0  0.0      0      0\n",
      "\n",
      "[891 rows x 5 columns]\n"
     ]
    }
   ],
   "source": [
    "print(x)"
   ]
  },
  {
   "cell_type": "markdown",
   "id": "e19db05e",
   "metadata": {},
   "source": [
    "## Logistic Regression"
   ]
  },
  {
   "cell_type": "code",
   "execution_count": 14,
   "id": "9d319f7f",
   "metadata": {},
   "outputs": [
    {
     "name": "stdout",
     "output_type": "stream",
     "text": [
      "Accuracy 0.81\n"
     ]
    }
   ],
   "source": [
    "X_train, X_test, y_train, y_test = train_test_split(x, y, test_size=0.3)\n",
    "lr = LogisticRegression(solver='lbfgs', max_iter= 1000000)\n",
    "lr.fit(X_train, y_train)\n",
    "y_predict = lr.predict(X_test)\n",
    "print(\"Accuracy %.2f\" %metrics.accuracy_score(y_test, y_predict))"
   ]
  },
  {
   "cell_type": "code",
   "execution_count": 15,
   "id": "e08811ce",
   "metadata": {},
   "outputs": [],
   "source": [
    "test_nature=(lr.predict(x_test))"
   ]
  },
  {
   "cell_type": "code",
   "execution_count": 20,
   "id": "cf8afc28",
   "metadata": {},
   "outputs": [
    {
     "name": "stdout",
     "output_type": "stream",
     "text": [
      "Your submission was successfully saved!\n"
     ]
    }
   ],
   "source": [
    "output = pd.DataFrame({'PassengerId': test_set.PassengerId, 'Survived': test_nature})\n",
    "output.to_csv('submission.csv', index=False)\n",
    "print(\"Your submission was successfully saved!\")"
   ]
  },
  {
   "cell_type": "code",
   "execution_count": null,
   "id": "942c74cd",
   "metadata": {},
   "outputs": [],
   "source": []
  },
  {
   "cell_type": "markdown",
   "id": "c9e79cd4",
   "metadata": {},
   "source": [
    "## Scaling the Data"
   ]
  },
  {
   "cell_type": "code",
   "execution_count": 21,
   "id": "9be1e011",
   "metadata": {},
   "outputs": [],
   "source": [
    "mean_= x.mean(axis=0)"
   ]
  },
  {
   "cell_type": "code",
   "execution_count": 22,
   "id": "c9a97b78",
   "metadata": {},
   "outputs": [
    {
     "name": "stdout",
     "output_type": "stream",
     "text": [
      "Pclass    0.352413\n",
      "Sex       0.352413\n",
      "Age       0.352413\n",
      "SibSp     0.352413\n",
      "Parch     0.352413\n",
      "dtype: float64\n"
     ]
    }
   ],
   "source": [
    "print(mean_)"
   ]
  },
  {
   "cell_type": "code",
   "execution_count": 23,
   "id": "c2d82628",
   "metadata": {},
   "outputs": [],
   "source": [
    "std_=x.std()"
   ]
  },
  {
   "cell_type": "code",
   "execution_count": 24,
   "id": "77316efd",
   "metadata": {},
   "outputs": [
    {
     "name": "stdout",
     "output_type": "stream",
     "text": [
      "Pclass    0.47799\n",
      "Sex       0.47799\n",
      "Age       0.47799\n",
      "SibSp     0.47799\n",
      "Parch     0.47799\n",
      "dtype: float64\n"
     ]
    }
   ],
   "source": [
    "print(std_)"
   ]
  },
  {
   "cell_type": "code",
   "execution_count": 25,
   "id": "c02de206",
   "metadata": {},
   "outputs": [],
   "source": [
    "x=(x-mean_)/std_"
   ]
  },
  {
   "cell_type": "code",
   "execution_count": 26,
   "id": "aff2222e",
   "metadata": {},
   "outputs": [
    {
     "data": {
      "text/html": [
       "<div>\n",
       "<style scoped>\n",
       "    .dataframe tbody tr th:only-of-type {\n",
       "        vertical-align: middle;\n",
       "    }\n",
       "\n",
       "    .dataframe tbody tr th {\n",
       "        vertical-align: top;\n",
       "    }\n",
       "\n",
       "    .dataframe thead th {\n",
       "        text-align: right;\n",
       "    }\n",
       "</style>\n",
       "<table border=\"1\" class=\"dataframe\">\n",
       "  <thead>\n",
       "    <tr style=\"text-align: right;\">\n",
       "      <th></th>\n",
       "      <th>Pclass</th>\n",
       "      <th>Sex</th>\n",
       "      <th>Age</th>\n",
       "      <th>SibSp</th>\n",
       "      <th>Parch</th>\n",
       "    </tr>\n",
       "  </thead>\n",
       "  <tbody>\n",
       "    <tr>\n",
       "      <th>0</th>\n",
       "      <td>-0.737281</td>\n",
       "      <td>-0.737281</td>\n",
       "      <td>-0.737281</td>\n",
       "      <td>-0.737281</td>\n",
       "      <td>-0.737281</td>\n",
       "    </tr>\n",
       "    <tr>\n",
       "      <th>1</th>\n",
       "      <td>1.354813</td>\n",
       "      <td>1.354813</td>\n",
       "      <td>1.354813</td>\n",
       "      <td>1.354813</td>\n",
       "      <td>1.354813</td>\n",
       "    </tr>\n",
       "    <tr>\n",
       "      <th>2</th>\n",
       "      <td>1.354813</td>\n",
       "      <td>1.354813</td>\n",
       "      <td>1.354813</td>\n",
       "      <td>1.354813</td>\n",
       "      <td>1.354813</td>\n",
       "    </tr>\n",
       "    <tr>\n",
       "      <th>3</th>\n",
       "      <td>1.354813</td>\n",
       "      <td>1.354813</td>\n",
       "      <td>1.354813</td>\n",
       "      <td>1.354813</td>\n",
       "      <td>1.354813</td>\n",
       "    </tr>\n",
       "    <tr>\n",
       "      <th>4</th>\n",
       "      <td>-0.737281</td>\n",
       "      <td>-0.737281</td>\n",
       "      <td>-0.737281</td>\n",
       "      <td>-0.737281</td>\n",
       "      <td>-0.737281</td>\n",
       "    </tr>\n",
       "    <tr>\n",
       "      <th>...</th>\n",
       "      <td>...</td>\n",
       "      <td>...</td>\n",
       "      <td>...</td>\n",
       "      <td>...</td>\n",
       "      <td>...</td>\n",
       "    </tr>\n",
       "    <tr>\n",
       "      <th>886</th>\n",
       "      <td>-0.737281</td>\n",
       "      <td>-0.737281</td>\n",
       "      <td>-0.737281</td>\n",
       "      <td>-0.737281</td>\n",
       "      <td>-0.737281</td>\n",
       "    </tr>\n",
       "    <tr>\n",
       "      <th>887</th>\n",
       "      <td>1.354813</td>\n",
       "      <td>1.354813</td>\n",
       "      <td>1.354813</td>\n",
       "      <td>1.354813</td>\n",
       "      <td>1.354813</td>\n",
       "    </tr>\n",
       "    <tr>\n",
       "      <th>888</th>\n",
       "      <td>1.354813</td>\n",
       "      <td>1.354813</td>\n",
       "      <td>1.354813</td>\n",
       "      <td>1.354813</td>\n",
       "      <td>1.354813</td>\n",
       "    </tr>\n",
       "    <tr>\n",
       "      <th>889</th>\n",
       "      <td>-0.737281</td>\n",
       "      <td>-0.737281</td>\n",
       "      <td>-0.737281</td>\n",
       "      <td>-0.737281</td>\n",
       "      <td>-0.737281</td>\n",
       "    </tr>\n",
       "    <tr>\n",
       "      <th>890</th>\n",
       "      <td>-0.737281</td>\n",
       "      <td>-0.737281</td>\n",
       "      <td>-0.737281</td>\n",
       "      <td>-0.737281</td>\n",
       "      <td>-0.737281</td>\n",
       "    </tr>\n",
       "  </tbody>\n",
       "</table>\n",
       "<p>891 rows × 5 columns</p>\n",
       "</div>"
      ],
      "text/plain": [
       "       Pclass       Sex       Age     SibSp     Parch\n",
       "0   -0.737281 -0.737281 -0.737281 -0.737281 -0.737281\n",
       "1    1.354813  1.354813  1.354813  1.354813  1.354813\n",
       "2    1.354813  1.354813  1.354813  1.354813  1.354813\n",
       "3    1.354813  1.354813  1.354813  1.354813  1.354813\n",
       "4   -0.737281 -0.737281 -0.737281 -0.737281 -0.737281\n",
       "..        ...       ...       ...       ...       ...\n",
       "886 -0.737281 -0.737281 -0.737281 -0.737281 -0.737281\n",
       "887  1.354813  1.354813  1.354813  1.354813  1.354813\n",
       "888  1.354813  1.354813  1.354813  1.354813  1.354813\n",
       "889 -0.737281 -0.737281 -0.737281 -0.737281 -0.737281\n",
       "890 -0.737281 -0.737281 -0.737281 -0.737281 -0.737281\n",
       "\n",
       "[891 rows x 5 columns]"
      ]
     },
     "execution_count": 26,
     "metadata": {},
     "output_type": "execute_result"
    }
   ],
   "source": [
    "x"
   ]
  },
  {
   "cell_type": "code",
   "execution_count": 27,
   "id": "eb3bbacd",
   "metadata": {},
   "outputs": [
    {
     "name": "stdout",
     "output_type": "stream",
     "text": [
      "Accuracy 0.83\n"
     ]
    }
   ],
   "source": [
    "X_train, X_test, y_train, y_test = train_test_split(x, y, test_size=0.3)\n",
    "lr = LogisticRegression(solver='lbfgs', max_iter= 1000000)\n",
    "lr.fit(X_train, y_train)\n",
    "y_predict = lr.predict(X_test)\n",
    "print(\"Accuracy %.2f\" %metrics.accuracy_score(y_test, y_predict))"
   ]
  },
  {
   "cell_type": "code",
   "execution_count": 28,
   "id": "11bf69b1",
   "metadata": {},
   "outputs": [
    {
     "name": "stdout",
     "output_type": "stream",
     "text": [
      "       Pclass       Sex       Age     SibSp     Parch\n",
      "0   -0.755024 -0.755024 -0.755024 -0.755024 -0.755024\n",
      "1    1.321292  1.321292  1.321292  1.321292  1.321292\n",
      "2   -0.755024 -0.755024 -0.755024 -0.755024 -0.755024\n",
      "3   -0.755024 -0.755024 -0.755024 -0.755024 -0.755024\n",
      "4    1.321292  1.321292  1.321292  1.321292  1.321292\n",
      "..        ...       ...       ...       ...       ...\n",
      "413 -0.755024 -0.755024 -0.755024 -0.755024 -0.755024\n",
      "414  1.321292  1.321292  1.321292  1.321292  1.321292\n",
      "415 -0.755024 -0.755024 -0.755024 -0.755024 -0.755024\n",
      "416 -0.755024 -0.755024 -0.755024 -0.755024 -0.755024\n",
      "417 -0.755024 -0.755024 -0.755024 -0.755024 -0.755024\n",
      "\n",
      "[418 rows x 5 columns]\n"
     ]
    }
   ],
   "source": [
    "mean_= x_test.mean(axis=0)\n",
    "std_=x_test.std()\n",
    "x_test= (x_test- mean_)/std_\n",
    "print(x_test)"
   ]
  },
  {
   "cell_type": "code",
   "execution_count": 29,
   "id": "27951d14",
   "metadata": {},
   "outputs": [],
   "source": [
    "test_nature=(lr.predict(x_test))"
   ]
  },
  {
   "cell_type": "code",
   "execution_count": 30,
   "id": "4df5826b",
   "metadata": {},
   "outputs": [
    {
     "name": "stdout",
     "output_type": "stream",
     "text": [
      "Your submission was successfully saved!\n"
     ]
    }
   ],
   "source": [
    "output = pd.DataFrame({'PassengerId': test_set.PassengerId, 'Survived': test_nature})\n",
    "output.to_csv('submission.csv', index=False)\n",
    "print(\"Your submission was successfully saved!\")"
   ]
  },
  {
   "cell_type": "code",
   "execution_count": null,
   "id": "32e42cf2",
   "metadata": {
    "papermill": {
     "duration": 0.003768,
     "end_time": "2023-03-03T03:52:33.580048",
     "exception": false,
     "start_time": "2023-03-03T03:52:33.576280",
     "status": "completed"
    },
    "tags": []
   },
   "outputs": [],
   "source": []
  }
 ],
 "metadata": {
  "kernelspec": {
   "display_name": "Python 3 (ipykernel)",
   "language": "python",
   "name": "python3"
  },
  "language_info": {
   "codemirror_mode": {
    "name": "ipython",
    "version": 3
   },
   "file_extension": ".py",
   "mimetype": "text/x-python",
   "name": "python",
   "nbconvert_exporter": "python",
   "pygments_lexer": "ipython3",
   "version": "3.9.13"
  },
  "papermill": {
   "default_parameters": {},
   "duration": 13.447539,
   "end_time": "2023-03-03T03:52:34.407849",
   "environment_variables": {},
   "exception": null,
   "input_path": "__notebook__.ipynb",
   "output_path": "__notebook__.ipynb",
   "parameters": {},
   "start_time": "2023-03-03T03:52:20.960310",
   "version": "2.4.0"
  }
 },
 "nbformat": 4,
 "nbformat_minor": 5
}
